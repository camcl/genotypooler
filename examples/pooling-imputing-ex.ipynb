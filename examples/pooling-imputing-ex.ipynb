{
 "cells": [
  {
   "cell_type": "code",
   "execution_count": 10,
   "metadata": {
    "pycharm": {
     "name": "#%%\n"
    }
   },
   "outputs": [],
   "source": [
    "import sys, os\n",
    "\n",
    "# force PYTHONPATH to look into the project directory for modules\n",
    "rootdir = os.path.dirname(os.path.dirname(os.getcwd()))\n",
    "sys.path.insert(0, rootdir)\n",
    "sys.path.insert(0, rootdir + '/genotypooler')\n",
    "\n",
    "from genotypooler.poolSNPs import poolvcf\n",
    "from genotypooler.poolSNPs.pooler import Design"
   ]
  },
  {
   "cell_type": "markdown",
   "metadata": {},
   "source": [
    "# Pooling-imputation performance from real bead chip data\n",
    "\n",
    "Performs pooling simulation and imputation on data from the chromosome 1 of samples in the NIAB Diverse MAGIC wheat population.\n",
    "There 1170 markers on the chromosome and 496 samples of inbred lines in the study population STU.\n",
    "The reference panel PNL consists in 8 founder individuals.\n",
    "Imputation is done with Beagle 4.1 (`modelscale=1.5`, other parameters set to default value), as well as a genetic map.\n",
    "For imputation with prophaser, we refer the user to the [`poolimputeSNPs`](https://github.com/camcl/poolimputeSNPs) repository.\n"
   ]
  },
  {
   "cell_type": "code",
   "execution_count": 2,
   "metadata": {
    "pycharm": {
     "name": "#%%\n"
    }
   },
   "outputs": [
    {
     "name": "stdout",
     "output_type": "stream",
     "text": [
      "Check number of samples\n"
     ]
    },
    {
     "data": {
      "text/plain": [
       "['496']"
      ]
     },
     "execution_count": 2,
     "metadata": {},
     "output_type": "execute_result"
    }
   ],
   "source": [
    "print('Check number of samples')\n",
    "%sx bcftools query -l Chr1.SNPs.pruned.nomiss.vcf.gz | wc -l"
   ]
  },
  {
   "cell_type": "code",
   "execution_count": 3,
   "metadata": {
    "pycharm": {
     "name": "#%%\n"
    }
   },
   "outputs": [
    {
     "name": "stdout",
     "output_type": "stream",
     "text": [
      "Check number of markers\n"
     ]
    },
    {
     "data": {
      "text/plain": [
       "['1170']"
      ]
     },
     "execution_count": 3,
     "metadata": {},
     "output_type": "execute_result"
    }
   ],
   "source": [
    "print('Check number of markers')\n",
    "%sx bcftools view -H Chr1.SNPs.pruned.nomiss.vcf.gz | wc -l"
   ]
  },
  {
   "cell_type": "code",
   "execution_count": 4,
   "metadata": {
    "pycharm": {
     "name": "#%%\n"
    }
   },
   "outputs": [
    {
     "name": "stdout",
     "output_type": "stream",
     "text": [
      "Apply pooling on the study population\n"
     ]
    },
    {
     "data": {
      "text/plain": [
       "['model name\\t: Intel(R) Core(TM) i7-10850H CPU @ 2.70GHz']"
      ]
     },
     "execution_count": 4,
     "metadata": {},
     "output_type": "execute_result"
    }
   ],
   "source": [
    "print('Apply pooling on the study population')\n",
    "# get processor characteristics on Linux-based OS\n",
    "%sx cat /proc/cpuinfo  | grep 'name'| uniq\n",
    "# model name\t: Intel(R) Core(TM) i7-7600U CPU @ 2.70GHz"
   ]
  },
  {
   "cell_type": "code",
   "execution_count": 5,
   "metadata": {
    "pycharm": {
     "name": "#%%\n"
    }
   },
   "outputs": [
    {
     "data": {
      "text/plain": [
       "['',\n",
       " '*******************************************************************************',\n",
       " 'Input file = Chr1.SNPs.pruned.nomiss.vcf.gz',\n",
       " 'Output file = Chr1.SNPs.pruned.nomiss.pooled.vcf.gz',\n",
       " '*******************************************************************************',\n",
       " '',\n",
       " 'Pooling data in /home/camille/MagicWheat/src/genotypooler/examples/Chr1.SNPs.pruned.nomiss.vcf.gz',\n",
       " '1 variants processed in 000.02 sec..............................................',\n",
       " '1001 variants processed in 015.78 sec...........................................',\n",
       " '',\n",
       " 'Writing metadata in /home/camille/MagicWheat/src/genotypooler/examples/Chr1.SNPs.pruned.nomiss.pooled.vcf',\n",
       " '',\n",
       " 'Writing data in /home/camille/MagicWheat/src/genotypooler/examples/Chr1.SNPs.pruned.nomiss.pooled.vcf',\n",
       " 'Writing data in /home/camille/MagicWheat/src/genotypooler/examples/Chr1.SNPs.pruned.nomiss.pooled.vcf: Done',\n",
       " '/home/camille/MagicWheat/src/genotypooler/examples/Chr1.SNPs.pruned.nomiss.pooled.vcf.gz:',\n",
       " ' File created? -> True',\n",
       " '/home/camille/MagicWheat/src/genotypooler/examples/Chr1.SNPs.pruned.nomiss.pooled.vcf.gz:',\n",
       " ' File indexed? -> True',\n",
       " 'Time for pooling 1170 variants = 18.488158355999985 sec',\n",
       " '',\n",
       " 'Time elapsed -->  18.508913497998947']"
      ]
     },
     "execution_count": 5,
     "metadata": {},
     "output_type": "execute_result"
    }
   ],
   "source": [
    "#pooling simulation\n",
    "%sx python3 -u pooling-ex.py Chr1.SNPs.pruned.nomiss.vcf.gz Chr1.SNPs.pruned.nomiss.pooled.vcf.gz GP\n",
    "# Time for pooling 1170 variants = ca. 18 sec"
   ]
  },
  {
   "cell_type": "code",
   "execution_count": 6,
   "metadata": {
    "pycharm": {
     "name": "#%%\n"
    }
   },
   "outputs": [
    {
     "name": "stdout",
     "output_type": "stream",
     "text": [
      "Impute missing genotypes in the pooled file\n"
     ]
    },
    {
     "data": {
      "text/plain": [
       "['Contigs in the reference file',\n",
       " '.................................................................................',\n",
       " 'Chromosome  1    Startpos = 1188258    Endpos = 593401002',\n",
       " '',\n",
       " '',\n",
       " 'Check FORMAT field in files for imputation',\n",
       " '.................................................................................',\n",
       " 'FORMAT in reference panel:  GT',\n",
       " 'FORMAT in target:  GL',\n",
       " '',\n",
       " '',\n",
       " 'Check number of samples and number of markers in files for imputation',\n",
       " '.................................................................................',\n",
       " 'reference:',\n",
       " '16',\n",
       " '',\n",
       " 'target:',\n",
       " '496',\n",
       " '',\n",
       " '',\n",
       " 'Phase reference and target with BEAGLE',\n",
       " '.................................................................................',\n",
       " 'Beagle .jar file used at: ../bin/beagle.11Mar19.69c.jar',\n",
       " '',\n",
       " 'FORMAT in the phased ref file: GT',\n",
       " 'beagle.11Mar19.69c.jar (version 4.1)',\n",
       " 'Copyright (C) 2014-2015 Brian L. Browning',\n",
       " 'Enter \"java -jar beagle.11Mar19.69c.jar\" for a summary of command line arguments.',\n",
       " 'Start time: 02:38 PM CEST on 23 May 2023',\n",
       " '',\n",
       " 'Command line: java -Xmx3902m -jar beagle.jar',\n",
       " '  impute=false',\n",
       " '  gtgl=Chr1.SNPs.pruned.nomiss.pooled.vcf.gz',\n",
       " '  map=1_interpolated_wheat_map_plink.map',\n",
       " '  modelscale=1.5',\n",
       " '  out=Chr1.SNPs.pruned.nomiss.pooled.unphased',\n",
       " '',\n",
       " 'reference samples:       0',\n",
       " 'target samples:        496',\n",
       " '',\n",
       " 'Window 1 [ 1:1188258-593401002 ]',\n",
       " 'target markers:       1170',\n",
       " '',\n",
       " 'Starting burn-in iterations',\n",
       " '',\n",
       " 'Window=1 Iteration=1',\n",
       " 'Time for building model:         1 second',\n",
       " 'Time for sampling (singles):     2 seconds',\n",
       " 'DAG statistics',\n",
       " 'mean edges/level: 8      max edges/level: 17',\n",
       " 'mean edges/node:  1.644  mean count/edge: 124',\n",
       " '',\n",
       " 'Window=1 Iteration=2',\n",
       " 'Time for building model:         1 second',\n",
       " 'Time for sampling (singles):     2 seconds',\n",
       " 'DAG statistics',\n",
       " 'mean edges/level: 10     max edges/level: 22',\n",
       " 'mean edges/node:  1.391  mean count/edge: 99',\n",
       " '',\n",
       " 'Window=1 Iteration=3',\n",
       " 'Time for building model:         1 second',\n",
       " 'Time for sampling (singles):     2 seconds',\n",
       " 'DAG statistics',\n",
       " 'mean edges/level: 11     max edges/level: 22',\n",
       " 'mean edges/node:  1.271  mean count/edge: 90',\n",
       " '',\n",
       " 'Window=1 Iteration=4',\n",
       " 'Time for building model:         1 second',\n",
       " 'Time for sampling (singles):     2 seconds',\n",
       " 'DAG statistics',\n",
       " 'mean edges/level: 13     max edges/level: 24',\n",
       " 'mean edges/node:  1.212  mean count/edge: 76',\n",
       " '',\n",
       " 'Window=1 Iteration=5',\n",
       " 'Time for building model:         1 second',\n",
       " 'Time for sampling (singles):     3 seconds',\n",
       " 'DAG statistics',\n",
       " 'mean edges/level: 14     max edges/level: 28',\n",
       " 'mean edges/node:  1.168  mean count/edge: 71',\n",
       " '',\n",
       " 'Window=1 Iteration=6',\n",
       " 'Time for building model:         1 second',\n",
       " 'Time for sampling (singles):     3 seconds',\n",
       " 'DAG statistics',\n",
       " 'mean edges/level: 14     max edges/level: 28',\n",
       " 'mean edges/node:  1.157  mean count/edge: 71',\n",
       " '',\n",
       " 'Window=1 Iteration=7',\n",
       " 'Time for building model:         1 second',\n",
       " 'Time for sampling (singles):     3 seconds',\n",
       " 'DAG statistics',\n",
       " 'mean edges/level: 14     max edges/level: 25',\n",
       " 'mean edges/node:  1.149  mean count/edge: 71',\n",
       " '',\n",
       " 'Window=1 Iteration=8',\n",
       " 'Time for building model:         1 second',\n",
       " 'Time for sampling (singles):     3 seconds',\n",
       " 'DAG statistics',\n",
       " 'mean edges/level: 14     max edges/level: 25',\n",
       " 'mean edges/node:  1.139  mean count/edge: 71',\n",
       " '',\n",
       " 'Window=1 Iteration=9',\n",
       " 'Time for building model:         1 second',\n",
       " 'Time for sampling (singles):     4 seconds',\n",
       " 'DAG statistics',\n",
       " 'mean edges/level: 15     max edges/level: 26',\n",
       " 'mean edges/node:  1.134  mean count/edge: 66',\n",
       " '',\n",
       " 'Window=1 Iteration=10',\n",
       " 'Time for building model:         1 second',\n",
       " 'Time for sampling (singles):     3 seconds',\n",
       " 'DAG statistics',\n",
       " 'mean edges/level: 15     max edges/level: 26',\n",
       " 'mean edges/node:  1.138  mean count/edge: 66',\n",
       " '',\n",
       " 'Starting phasing iterations',\n",
       " '',\n",
       " 'Window=1 Iteration=11',\n",
       " 'Time for building model:         0 seconds',\n",
       " 'Time for sampling (singles):     2 seconds',\n",
       " 'DAG statistics',\n",
       " 'mean edges/level: 17     max edges/level: 27',\n",
       " 'mean edges/node:  1.129  mean count/edge: 58',\n",
       " '',\n",
       " 'Window=1 Iteration=12',\n",
       " 'Time for building model:         1 second',\n",
       " 'Time for sampling (singles):     2 seconds',\n",
       " 'DAG statistics',\n",
       " 'mean edges/level: 15     max edges/level: 25',\n",
       " 'mean edges/node:  1.145  mean count/edge: 66',\n",
       " '',\n",
       " 'Window=1 Iteration=13',\n",
       " 'Time for building model:         1 second',\n",
       " 'Time for sampling (singles):     1 second',\n",
       " 'DAG statistics',\n",
       " 'mean edges/level: 17     max edges/level: 27',\n",
       " 'mean edges/node:  1.129  mean count/edge: 58',\n",
       " '',\n",
       " 'Window=1 Iteration=14',\n",
       " 'Time for building model:         0 seconds',\n",
       " 'Time for sampling (singles):     1 second',\n",
       " 'DAG statistics',\n",
       " 'mean edges/level: 15     max edges/level: 25',\n",
       " 'mean edges/node:  1.145  mean count/edge: 66',\n",
       " '',\n",
       " 'Window=1 Iteration=15',\n",
       " 'Time for building model:         0 seconds',\n",
       " 'Time for sampling (singles):     1 second',\n",
       " 'DAG statistics',\n",
       " 'mean edges/level: 17     max edges/level: 27',\n",
       " 'mean edges/node:  1.129  mean count/edge: 58',\n",
       " '',\n",
       " 'Number of markers:                1170',\n",
       " 'Total time for building model: 10 seconds',\n",
       " 'Total time for sampling:       34 seconds',\n",
       " 'Total run time:                46 seconds',\n",
       " '',\n",
       " 'End time: 02:39 PM CEST on 23 May 2023',\n",
       " 'beagle.11Mar19.69c.jar (version 4.1) finished',\n",
       " '',\n",
       " 'beagle.11Mar19.69c.jar (version 4.1)',\n",
       " 'Copyright (C) 2014-2015 Brian L. Browning',\n",
       " 'Enter \"java -jar beagle.11Mar19.69c.jar\" for a summary of command line arguments.',\n",
       " 'Start time: 02:39 PM CEST on 23 May 2023',\n",
       " '',\n",
       " 'Command line: java -Xmx3902m -jar beagle.jar',\n",
       " '  impute=false',\n",
       " '  gt=Chr1.SNPs.pruned.nomiss.pooled.unphased.vcf.gz',\n",
       " '  map=1_interpolated_wheat_map_plink.map',\n",
       " '  modelscale=1.5',\n",
       " '  out=Chr1.SNPs.pruned.nomiss.pooled.phased',\n",
       " '',\n",
       " 'reference samples:       0',\n",
       " 'target samples:        496',\n",
       " '',\n",
       " 'Window 1 [ 1:1188258-593401002 ]',\n",
       " 'target markers:       1170',\n",
       " '',\n",
       " 'Starting burn-in iterations',\n",
       " '',\n",
       " 'Window=1 Iteration=1',\n",
       " 'Time for building model:         0 seconds',\n",
       " 'Time for sampling (singles):     0 seconds',\n",
       " 'DAG statistics',\n",
       " 'mean edges/level: 17     max edges/level: 27',\n",
       " 'mean edges/node:  1.131  mean count/edge: 58',\n",
       " '',\n",
       " 'Window=1 Iteration=2',\n",
       " 'Time for building model:         0 seconds',\n",
       " 'Time for sampling (singles):     0 seconds',\n",
       " 'DAG statistics',\n",
       " 'mean edges/level: 15     max edges/level: 25',\n",
       " 'mean edges/node:  1.144  mean count/edge: 66',\n",
       " '',\n",
       " 'Window=1 Iteration=3',\n",
       " 'Time for building model:         0 seconds',\n",
       " 'Time for sampling (singles):     0 seconds',\n",
       " 'DAG statistics',\n",
       " 'mean edges/level: 17     max edges/level: 27',\n",
       " 'mean edges/node:  1.129  mean count/edge: 58',\n",
       " '',\n",
       " 'Window=1 Iteration=4',\n",
       " 'Time for building model:         0 seconds',\n",
       " 'Time for sampling (singles):     0 seconds',\n",
       " 'DAG statistics',\n",
       " 'mean edges/level: 15     max edges/level: 25',\n",
       " 'mean edges/node:  1.147  mean count/edge: 66',\n",
       " '',\n",
       " 'Window=1 Iteration=5',\n",
       " 'Time for building model:         0 seconds',\n",
       " 'Time for sampling (singles):     0 seconds',\n",
       " 'DAG statistics',\n",
       " 'mean edges/level: 17     max edges/level: 30',\n",
       " 'mean edges/node:  1.132  mean count/edge: 58',\n",
       " '',\n",
       " 'Window=1 Iteration=6',\n",
       " 'Time for building model:         0 seconds',\n",
       " 'Time for sampling (singles):     0 seconds',\n",
       " 'DAG statistics',\n",
       " 'mean edges/level: 15     max edges/level: 25',\n",
       " 'mean edges/node:  1.144  mean count/edge: 66',\n",
       " '',\n",
       " 'Window=1 Iteration=7',\n",
       " 'Time for building model:         0 seconds',\n",
       " 'Time for sampling (singles):     0 seconds',\n",
       " 'DAG statistics',\n",
       " 'mean edges/level: 16     max edges/level: 27',\n",
       " 'mean edges/node:  1.133  mean count/edge: 62',\n",
       " '',\n",
       " 'Window=1 Iteration=8',\n",
       " 'Time for building model:         0 seconds',\n",
       " 'Time for sampling (singles):     0 seconds',\n",
       " 'DAG statistics',\n",
       " 'mean edges/level: 16     max edges/level: 26',\n",
       " 'mean edges/node:  1.142  mean count/edge: 62',\n",
       " '',\n",
       " 'Window=1 Iteration=9',\n",
       " 'Time for building model:         0 seconds',\n",
       " 'Time for sampling (singles):     0 seconds',\n",
       " 'DAG statistics',\n",
       " 'mean edges/level: 17     max edges/level: 27',\n",
       " 'mean edges/node:  1.132  mean count/edge: 58',\n",
       " '',\n",
       " 'Window=1 Iteration=10',\n",
       " 'Time for building model:         0 seconds',\n",
       " 'Time for sampling (singles):     0 seconds',\n",
       " 'DAG statistics',\n",
       " 'mean edges/level: 15     max edges/level: 25',\n",
       " 'mean edges/node:  1.144  mean count/edge: 66',\n",
       " '',\n",
       " 'Starting phasing iterations',\n",
       " '',\n",
       " 'Window=1 Iteration=11',\n",
       " 'Time for building model:         0 seconds',\n",
       " 'Time for sampling (singles):     1 second',\n",
       " 'DAG statistics',\n",
       " 'mean edges/level: 17     max edges/level: 27',\n",
       " 'mean edges/node:  1.129  mean count/edge: 58',\n",
       " '',\n",
       " 'Window=1 Iteration=12',\n",
       " 'Time for building model:         1 second',\n",
       " 'Time for sampling (singles):     1 second',\n",
       " 'DAG statistics',\n",
       " 'mean edges/level: 15     max edges/level: 25',\n",
       " 'mean edges/node:  1.145  mean count/edge: 66',\n",
       " '',\n",
       " 'Window=1 Iteration=13',\n",
       " 'Time for building model:         0 seconds',\n",
       " 'Time for sampling (singles):     1 second',\n",
       " 'DAG statistics',\n",
       " 'mean edges/level: 17     max edges/level: 27',\n",
       " 'mean edges/node:  1.129  mean count/edge: 58',\n",
       " '',\n",
       " 'Window=1 Iteration=14',\n",
       " 'Time for building model:         0 seconds',\n",
       " 'Time for sampling (singles):     1 second',\n",
       " 'DAG statistics',\n",
       " 'mean edges/level: 15     max edges/level: 25',\n",
       " 'mean edges/node:  1.145  mean count/edge: 66',\n",
       " '',\n",
       " 'Window=1 Iteration=15',\n",
       " 'Time for building model:         0 seconds',\n",
       " 'Time for sampling (singles):     1 second',\n",
       " 'DAG statistics',\n",
       " 'mean edges/level: 17     max edges/level: 27',\n",
       " 'mean edges/node:  1.129  mean count/edge: 58',\n",
       " '',\n",
       " 'Number of markers:                1170',\n",
       " 'Total time for building model: 5 seconds',\n",
       " 'Total time for sampling:       6 seconds',\n",
       " 'Total run time:                11 seconds',\n",
       " '',\n",
       " 'End time: 02:39 PM CEST on 23 May 2023',\n",
       " 'beagle.11Mar19.69c.jar (version 4.1) finished',\n",
       " 'FORMAT in the phased target file: GT',\n",
       " '',\n",
       " '',\n",
       " 'Deduplicate possibly duplicated markers',\n",
       " '.................................................................................',\n",
       " 'Lines   total/split/realigned/skipped:\\t1170/0/0/0',\n",
       " 'Lines   total/split/realigned/skipped:\\t1170/0/0/0',\n",
       " '',\n",
       " '',\n",
       " 'Unify reference and target markers with CONFORM-GT',\n",
       " '.................................................................................',\n",
       " 'conform-gt .jar file used at: ../bin/conform-gt.jar',\n",
       " '',\n",
       " '',\n",
       " '',\n",
       " 'Impute target from reference with BEAGLE',\n",
       " '.................................................................................',\n",
       " 'Beagle .jar file used at: ../bin/beagle.11Mar19.69c.jar',\n",
       " '',\n",
       " 'beagle.11Mar19.69c.jar (version 4.1)',\n",
       " 'Copyright (C) 2014-2015 Brian L. Browning',\n",
       " 'Enter \"java -jar beagle.11Mar19.69c.jar\" for a summary of command line arguments.',\n",
       " 'Start time: 02:39 PM CEST on 23 May 2023',\n",
       " '',\n",
       " 'Command line: java -Xmx3902m -jar beagle.jar',\n",
       " '  gt=Chr1.SNPs.pruned.nomiss.pooled.cfgt.vcf.gz',\n",
       " '  ref=Chr1.Founders.phased.vcf.gz',\n",
       " '  map=1_interpolated_wheat_map_plink.map',\n",
       " '  modelscale=1.5',\n",
       " '  impute=true',\n",
       " '  gprobs=true',\n",
       " '  out=Chr1.SNPs.pruned.nomiss.pooled.imputed',\n",
       " '',\n",
       " 'reference samples:      16',\n",
       " 'target samples:        496',\n",
       " '',\n",
       " 'Window 1 [ 1:1188258-593401002 ]',\n",
       " 'reference markers:    1170',\n",
       " 'target markers:       1148',\n",
       " '',\n",
       " 'Imputation time (this window): 0 seconds',\n",
       " '',\n",
       " 'Number of reference markers:      1170',\n",
       " 'Number of target markers:         1148',\n",
       " 'Total time for imputation:     0 seconds',\n",
       " 'Total run time:                1 second',\n",
       " '',\n",
       " 'End time: 02:39 PM CEST on 23 May 2023',\n",
       " 'beagle.11Mar19.69c.jar (version 4.1) finished',\n",
       " 'FORMAT in the imputed target file: GT:DS:GP',\n",
       " '',\n",
       " '',\n",
       " 'Cleaning directory from log files',\n",
       " '.................................................................................',\n",
       " 'Done.',\n",
       " '']"
      ]
     },
     "execution_count": 6,
     "metadata": {},
     "output_type": "execute_result"
    }
   ],
   "source": [
    "print('Impute missing genotypes in the pooled file')\n",
    "%sx bash beagle_magic_wheat_map.sh"
   ]
  },
  {
   "cell_type": "code",
   "execution_count": 7,
   "metadata": {
    "pycharm": {
     "name": "#%%\n"
    }
   },
   "outputs": [
    {
     "ename": "AssertionError",
     "evalue": "",
     "output_type": "error",
     "traceback": [
      "\u001B[0;31m---------------------------------------------------------------------------\u001B[0m",
      "\u001B[0;31mAssertionError\u001B[0m                            Traceback (most recent call last)",
      "\u001B[0;32m<ipython-input-7-824d4143332d>\u001B[0m in \u001B[0;36m<module>\u001B[0;34m\u001B[0m\n\u001B[1;32m      2\u001B[0m \u001B[0;32massert\u001B[0m \u001B[0mos\u001B[0m\u001B[0;34m.\u001B[0m\u001B[0mpath\u001B[0m\u001B[0;34m.\u001B[0m\u001B[0mexists\u001B[0m\u001B[0;34m(\u001B[0m\u001B[0;34m'Chr1.SNPs.pruned.nomiss.pooled.unphased.vcf.gz'\u001B[0m\u001B[0;34m)\u001B[0m\u001B[0;34m\u001B[0m\u001B[0;34m\u001B[0m\u001B[0m\n\u001B[1;32m      3\u001B[0m \u001B[0;32massert\u001B[0m \u001B[0mos\u001B[0m\u001B[0;34m.\u001B[0m\u001B[0mpath\u001B[0m\u001B[0;34m.\u001B[0m\u001B[0mexists\u001B[0m\u001B[0;34m(\u001B[0m\u001B[0;34m'Chr1.SNPs.pruned.nomiss.pooled.phased.vcf.gz'\u001B[0m\u001B[0;34m)\u001B[0m\u001B[0;34m\u001B[0m\u001B[0;34m\u001B[0m\u001B[0m\n\u001B[0;32m----> 4\u001B[0;31m \u001B[0;32massert\u001B[0m \u001B[0mos\u001B[0m\u001B[0;34m.\u001B[0m\u001B[0mpath\u001B[0m\u001B[0;34m.\u001B[0m\u001B[0mexists\u001B[0m\u001B[0;34m(\u001B[0m\u001B[0;34m'Chr1.SNPs.pruned.nomiss.pooled.dedup.vcf.gz'\u001B[0m\u001B[0;34m)\u001B[0m\u001B[0;34m\u001B[0m\u001B[0;34m\u001B[0m\u001B[0m\n\u001B[0m\u001B[1;32m      5\u001B[0m \u001B[0;32massert\u001B[0m \u001B[0mos\u001B[0m\u001B[0;34m.\u001B[0m\u001B[0mpath\u001B[0m\u001B[0;34m.\u001B[0m\u001B[0mexists\u001B[0m\u001B[0;34m(\u001B[0m\u001B[0;34m'Chr1.SNPs.pruned.nomiss.pooled.imputed.vcf.gz'\u001B[0m\u001B[0;34m)\u001B[0m\u001B[0;34m\u001B[0m\u001B[0;34m\u001B[0m\u001B[0m\n",
      "\u001B[0;31mAssertionError\u001B[0m: "
     ]
    }
   ],
   "source": [
    "# Verify files created at the different phasing and imputation steps\n",
    "assert os.path.exists('Chr1.SNPs.pruned.nomiss.pooled.unphased.vcf.gz')\n",
    "assert os.path.exists('Chr1.SNPs.pruned.nomiss.pooled.phased.vcf.gz')\n",
    "assert os.path.exists('Chr1.SNPs.pruned.nomiss.pooled.dedup.vcf.gz')\n",
    "assert os.path.exists('Chr1.SNPs.pruned.nomiss.pooled.imputed.vcf.gz')"
   ]
  },
  {
   "cell_type": "markdown",
   "metadata": {},
   "source": [
    "### Compute results with customized metrics\n",
    "Plot concordance and cross-entropy after imputation. Count number of markers correctly decoded and correctly imputed.\n",
    "\n",
    "> **NB**: If wished, you may first edit the paths in `examples/argsfile_example.txt` to absolute paths that correspond to your local OS and settings."
   ]
  },
  {
   "cell_type": "code",
   "execution_count": 21,
   "metadata": {
    "pycharm": {
     "name": "#%%\n"
    }
   },
   "outputs": [
    {
     "data": {
      "text/plain": [
       "['',\n",
       " '*******************************************************************************',\n",
       " 'The following arguments were parsed from file:',\n",
       " '',\n",
       " \"Namespace(bins=0.01, compute=1, date='../../examples/beagle-vs-prophaser', imp1='../../examples/beagle-with-map/Chr1.SNPs.pruned.nomiss.pooled.imputed.vcf.gz', imp2='../../examples/prophaser/Chr1.SNPs.pruned.nomiss.pooled.imputed.vcf.gz', pathout='../../examples/results', rollwin=5, truegl='../../examples/Chr1.SNPs.pruned.nomiss.gl.vcf.gz', truegt='../../examples/Chr1.SNPs.pruned.nomiss.vcf.gz')\",\n",
       " '',\n",
       " '*******************************************************************************',\n",
       " '',\n",
       " 'Data written to ../../examples/results/../../examples/beagle-vs-prophaser',\n",
       " '',\n",
       " '1170 variants from 496 samples read from Chr1.SNPs.pruned.nomiss.vcf.gz',\n",
       " '',\n",
       " '1170 variants from 496 samples read from Chr1.SNPs.pruned.nomiss.pooled.imputed.vcf.gz',\n",
       " '',\n",
       " '1170 variants from 496 samples read from Chr1.SNPs.pruned.nomiss.gl.vcf.gz',\n",
       " '',\n",
       " '1170 variants from 496 samples read from Chr1.SNPs.pruned.nomiss.pooled.imputed.vcf.gz',\n",
       " 'Computing quantiles for concordance.............................................',\n",
       " 'Computing means for concordance.................................................',\n",
       " 'Computing quantiles for cross_entropy...........................................',\n",
       " 'Computing means for cross_entropy...............................................',\n",
       " '     binned_maf  quantiles  concordance  dataset      mean',\n",
       " '0         0.005       0.00          NaN        1  0.868859',\n",
       " '1         0.005       0.01          NaN        1  0.868859',\n",
       " '2         0.005       0.25          NaN        1  0.868859',\n",
       " '3         0.005       0.50          NaN        1  0.868859',\n",
       " '4         0.005       0.75          NaN        1  0.868859',\n",
       " '..          ...        ...          ...      ...       ...',\n",
       " '695       0.495       0.25     0.871832        2  0.947408',\n",
       " '696       0.495       0.50     0.873848        2  0.947408',\n",
       " '697       0.495       0.75     0.883641        2  0.947408',\n",
       " '698       0.495       0.99     0.906037        2  0.947408',\n",
       " '699       0.495       1.00     0.906970        2  0.947408',\n",
       " '',\n",
       " '[700 rows x 5 columns]',\n",
       " '     binned_maf  quantiles  cross_entropy  dataset      mean',\n",
       " '0         0.005       0.00            NaN        1  1.461907',\n",
       " '1         0.005       0.01            NaN        1  1.461907',\n",
       " '2         0.005       0.25            NaN        1  1.461907',\n",
       " '3         0.005       0.50            NaN        1  1.461907',\n",
       " '4         0.005       0.75            NaN        1  1.461907',\n",
       " '..          ...        ...            ...      ...       ...',\n",
       " '695       0.495       0.25       0.623093        2  0.335331',\n",
       " '696       0.495       0.50       0.845736        2  0.335331',\n",
       " '697       0.495       0.75       0.906188        2  0.335331',\n",
       " '698       0.495       0.99       0.935283        2  0.335331',\n",
       " '699       0.495       1.00       0.936495        2  0.335331',\n",
       " '',\n",
       " '[700 rows x 5 columns]']"
      ]
     },
     "execution_count": 21,
     "metadata": {},
     "output_type": "execute_result"
    }
   ],
   "source": [
    "%sx cd ../genotypooler/graphtools && python3 -u quantiles_plots.py @../../examples/argsfile_example.txt"
   ]
  },
  {
   "cell_type": "code",
   "execution_count": 13,
   "metadata": {
    "pycharm": {
     "name": "#%%\n"
    }
   },
   "outputs": [
    {
     "data": {
      "text/plain": [
       "[\"python3: can't open file 'quantiles_plots.py': [Errno 2] No such file or directory\"]"
      ]
     },
     "execution_count": 13,
     "metadata": {},
     "output_type": "execute_result"
    }
   ],
   "source": [
    "%sx pwd\n",
    "\n",
    "#TODO: tables, quantiles1_plot"
   ]
  },
  {
   "cell_type": "code",
   "execution_count": 37,
   "metadata": {
    "pycharm": {
     "name": "#%%\n"
    }
   },
   "outputs": [],
   "source": [
    "# Verify files created at the different phasing and imputation steps\n",
    "#assert os.path.exists('imputation_quality_gtgl.pdf')\n",
    "\n"
   ]
  }
 ],
 "metadata": {
  "kernelspec": {
   "display_name": "Python 3",
   "language": "python",
   "name": "python3"
  },
  "language_info": {
   "codemirror_mode": {
    "name": "ipython",
    "version": 3
   },
   "file_extension": ".py",
   "mimetype": "text/x-python",
   "name": "python",
   "nbconvert_exporter": "python",
   "pygments_lexer": "ipython3",
   "version": "3.6.15"
  }
 },
 "nbformat": 4,
 "nbformat_minor": 1
}